{
 "cells": [
  {
   "cell_type": "code",
   "execution_count": 1,
   "metadata": {},
   "outputs": [
    {
     "name": "stdout",
     "output_type": "stream",
     "text": [
      "Enter principle amount:50\n",
      "Enter rate amount:3\n",
      "Enter time amount:5\n",
      "Simple Interest is: 7.5\n"
     ]
    }
   ],
   "source": [
    "#Write a program which accept principle, rate and time from user and print the simple interest. The formula to calculate simple interest is: simple interest = principle x rate x time / 100 \n",
    "\n",
    "principle = float(input(\"Enter principle amount:\"))\n",
    "rate = float(input(\"Enter rate amount:\"))\n",
    "time = float(input(\"Enter time amount:\"))\n",
    "\n",
    "simple_interest = (principle * rate * time)/100\n",
    "print(\"Simple Interest is:\",simple_interest)"
   ]
  },
  {
   "cell_type": "code",
   "execution_count": null,
   "metadata": {},
   "outputs": [],
   "source": []
  }
 ],
 "metadata": {
  "kernelspec": {
   "display_name": "Python 3",
   "language": "python",
   "name": "python3"
  },
  "language_info": {
   "codemirror_mode": {
    "name": "ipython",
    "version": 3
   },
   "file_extension": ".py",
   "mimetype": "text/x-python",
   "name": "python",
   "nbconvert_exporter": "python",
   "pygments_lexer": "ipython3",
   "version": "3.7.6"
  }
 },
 "nbformat": 4,
 "nbformat_minor": 4
}
